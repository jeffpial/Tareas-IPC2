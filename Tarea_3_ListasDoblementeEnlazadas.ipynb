{
  "nbformat": 4,
  "nbformat_minor": 0,
  "metadata": {
    "colab": {
      "name": "Tarea - 3. ListasDoblementeEnlazadas",
      "provenance": [],
      "authorship_tag": "ABX9TyOBmZly7bBhKigHWI0zWMDK",
      "include_colab_link": true
    },
    "kernelspec": {
      "name": "python3",
      "display_name": "Python 3"
    },
    "language_info": {
      "name": "python"
    }
  },
  "cells": [
    {
      "cell_type": "markdown",
      "metadata": {
        "id": "view-in-github",
        "colab_type": "text"
      },
      "source": [
        "<a href=\"https://colab.research.google.com/github/jeffpial/Tareas-IPC2/blob/main/Tarea_3_ListasDoblementeEnlazadas.ipynb\" target=\"_parent\"><img src=\"https://colab.research.google.com/assets/colab-badge.svg\" alt=\"Open In Colab\"/></a>"
      ]
    },
    {
      "cell_type": "markdown",
      "metadata": {
        "id": "FqVPAdmbxwHa"
      },
      "source": [
        "# **Listas Doblemente Enlazadas**"
      ]
    },
    {
      "cell_type": "markdown",
      "metadata": {
        "id": "i8_ogfTex6Ut"
      },
      "source": [
        "###**definicion de la clase estudiante**\n"
      ]
    },
    {
      "cell_type": "code",
      "metadata": {
        "id": "Rn0v_XkTvhvI"
      },
      "source": [
        "class estudiante:\n",
        "  def __init__(self, carne1, nombre, edad, direccion, telefono, email, carrera, puesto):\n",
        "    ##self.carne es una nueva variable y carne1 es la instancia\n",
        "    self.carne = carne1\n",
        "    self.nombre = nombre\n",
        "    self.edad = edad\n",
        "    self.direccion = direccion\n",
        "    self.telefono = telefono\n",
        "    self.email = email\n",
        "    self.puesto = puesto"
      ],
      "execution_count": 1,
      "outputs": []
    },
    {
      "cell_type": "markdown",
      "metadata": {
        "id": "tcbgohI3yFS-"
      },
      "source": [
        "**definicion de la clase Nodo**"
      ]
    },
    {
      "cell_type": "code",
      "metadata": {
        "id": "6-uEY4Gy0AzU"
      },
      "source": [
        "class nodo:\n",
        "  def __init__(self, estudiante=None, siguiente=None, anterior=None):\n",
        "    self.estudiante = estudiante\n",
        "    self.siguiente = siguiente\n",
        "    self.anterior = anterior\n"
      ],
      "execution_count": 2,
      "outputs": []
    },
    {
      "cell_type": "markdown",
      "metadata": {
        "id": "AzQlOnGZ0V3-"
      },
      "source": [
        "**Definicion de la Clase lista doblemente Enlazada**"
      ]
    },
    {
      "cell_type": "code",
      "metadata": {
        "id": "vwuyVJse0f47"
      },
      "source": [
        "class lista_doble:\n",
        "  def __init__(self):\n",
        "    self.primero = None\n",
        "\n",
        "  def insertar(self, estudiante):\n",
        "    if self.primero is None:\n",
        "      self.primero = nodo(estudiante = estudiante)\n",
        "    else:\n",
        "      actual = nodo(estudiante=estudiante)\n",
        "      self.primero.anterior = actual\n",
        "      self.primero = actual\n",
        "\n",
        "  def recorrer(self):\n",
        "    if self.primero is None:\n",
        "      return\n",
        "    actual = self.primero\n",
        "    print(\"Carne: \", actual.estudiante.carne, \"Nombre: \", actual.estudiante.nombre, \"Email: \", actual.estudiante.email, \"->\")\n",
        "    while actual.siguiente:\n",
        "      actual = actual.siguiente\n",
        "      print(\"Carne: \", actual.estudiante.carne, \"Nombre: \", actual.estudiante.nombre, \"Email: \", actual.estudiante.email, \"->\")\n",
        "\n",
        "  def eliminar(self, carne):\n",
        "    actual = self.primero\n",
        "    while actual:\n",
        "      if actual.estudiante.carne == carne:\n",
        "        if actual.anterior:\n",
        "          if actual.siguiente:\n",
        "            actual.anterior.siguiente = actual.siguiente\n",
        "            actual.siguiente.anterior = actual.anterior\n",
        "          else:\n",
        "            actual.anterior.siguiente = None\n",
        "            actual.anterior = None\n",
        "        else:\n",
        "          if actual.siguiente:\n",
        "            self.primero = actual.siguiente\n",
        "            actual.siguiente.anterior = None\n",
        "          else:\n",
        "            self.primero = None\n",
        "        return True\n",
        "      else:\n",
        "        actual = actual.siguiente\n",
        "    return False\n",
        "\n",
        "  def buscar(self, carne):\n",
        "    actual = self.primero\n",
        "    while actual and actual.estudiante.carne != carne:\n",
        "      actual = actual.siguiente\n",
        "    \n",
        "    if actual and actual.estudiante.carne == carne:\n",
        "      print(\"Carne: \", actual.estudiante.carne, \"Nombre: \", actual.estudiante.nombre, \"Email: \", actual.estudiante.email, \"->\")\n",
        "    else:\n",
        "      return False\n"
      ],
      "execution_count": 13,
      "outputs": []
    },
    {
      "cell_type": "markdown",
      "metadata": {
        "id": "u8-GA1Lh2UZj"
      },
      "source": [
        "**Craacion de obejetos Estudiante**"
      ]
    },
    {
      "cell_type": "code",
      "metadata": {
        "id": "2V92wz1c2SFy"
      },
      "source": [
        "e1 = estudiante(201901530, \"Jeffrey Pineda\",20,\"9 calle 9-50 zona 6\", 44288224,\"jeff@gmail.com\",\"Ing. ciencias y sitemas\", \"Programador Jr\")\n",
        "e2 = estudiante(202001531, \"Carlos fuente\",22,\"6 calle 9-50 zona 10\", 64897824,\"hola@gmail.com\",\"Ing. ciencias y sitemas\", \"Programador Jr\")\n",
        "e3 = estudiante(202101532, \"Luis Pera\",21,\"8 calle 9-50 zona 5\", 3894224,\"quero@gmail.com\",\"Ing. ciencias y sitemas\", \"Programador Jr\")\n"
      ],
      "execution_count": 14,
      "outputs": []
    },
    {
      "cell_type": "markdown",
      "metadata": {
        "id": "uUm0nMIB2i8c"
      },
      "source": [
        "**Insersion**"
      ]
    },
    {
      "cell_type": "code",
      "metadata": {
        "id": "pqa0xm6f2ZSX"
      },
      "source": [
        "lista_d = lista_doble()\n",
        "lista_d.insertar(e1)\n",
        "lista_d.insertar(e2)\n",
        "lista_d.insertar(e3)"
      ],
      "execution_count": 16,
      "outputs": []
    },
    {
      "cell_type": "markdown",
      "metadata": {
        "id": "4mO99C3CwXcN"
      },
      "source": [
        "**Recorrer**"
      ]
    },
    {
      "cell_type": "code",
      "metadata": {
        "colab": {
          "base_uri": "https://localhost:8080/"
        },
        "id": "77-6cS67wZjF",
        "outputId": "2b94ad3a-8eaa-4bdb-cc87-a9e2b17882ed"
      },
      "source": [
        "lista_d.recorrer()"
      ],
      "execution_count": 17,
      "outputs": [
        {
          "output_type": "stream",
          "text": [
            "Carne:  202101532 Nombre:  Luis Pera Email:  quero@gmail.com ->\n"
          ],
          "name": "stdout"
        }
      ]
    },
    {
      "cell_type": "markdown",
      "metadata": {
        "id": "aawtoV_p7gql"
      },
      "source": [
        "**Eliminar**"
      ]
    },
    {
      "cell_type": "code",
      "metadata": {
        "colab": {
          "base_uri": "https://localhost:8080/"
        },
        "id": "CcZx0RhB7ibO",
        "outputId": "ef9e0d3c-8238-4de0-9d50-687e76c112a3"
      },
      "source": [
        "lista_d.eliminar(201901530)"
      ],
      "execution_count": 18,
      "outputs": [
        {
          "output_type": "execute_result",
          "data": {
            "text/plain": [
              "False"
            ]
          },
          "metadata": {},
          "execution_count": 18
        }
      ]
    },
    {
      "cell_type": "markdown",
      "metadata": {
        "id": "NEZjHILSpx88"
      },
      "source": [
        "**Buscar por carne**"
      ]
    },
    {
      "cell_type": "code",
      "metadata": {
        "colab": {
          "base_uri": "https://localhost:8080/"
        },
        "id": "OGU8sAVnpxl_",
        "outputId": "0491948c-b585-4cf8-dde5-31fb6d22010b"
      },
      "source": [
        "lista_d.buscar(202101532)"
      ],
      "execution_count": 19,
      "outputs": [
        {
          "output_type": "stream",
          "text": [
            "Carne:  202101532 Nombre:  Luis Pera Email:  quero@gmail.com ->\n"
          ],
          "name": "stdout"
        }
      ]
    }
  ]
}