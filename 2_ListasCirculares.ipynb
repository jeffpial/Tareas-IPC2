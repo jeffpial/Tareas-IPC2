{
  "nbformat": 4,
  "nbformat_minor": 0,
  "metadata": {
    "colab": {
      "name": "2. ListasCirculares",
      "provenance": [],
      "authorship_tag": "ABX9TyOzWB7KcxtWoJ6xB9qVEJcV",
      "include_colab_link": true
    },
    "kernelspec": {
      "name": "python3",
      "display_name": "Python 3"
    },
    "language_info": {
      "name": "python"
    }
  },
  "cells": [
    {
      "cell_type": "markdown",
      "metadata": {
        "id": "view-in-github",
        "colab_type": "text"
      },
      "source": [
        "<a href=\"https://colab.research.google.com/github/jeffpial/Tareas-IPC2/blob/main/2_ListasCirculares.ipynb\" target=\"_parent\"><img src=\"https://colab.research.google.com/assets/colab-badge.svg\" alt=\"Open In Colab\"/></a>"
      ]
    },
    {
      "cell_type": "markdown",
      "metadata": {
        "id": "JFOhhJg-zU9j"
      },
      "source": [
        "# **Listas Circulares**\n"
      ]
    },
    {
      "cell_type": "markdown",
      "metadata": {
        "id": "P4kueG8azRN6"
      },
      "source": [
        "###**definicion de la clase estudiante**\n"
      ]
    },
    {
      "cell_type": "code",
      "metadata": {
        "id": "8RSrAKzXzSSx"
      },
      "source": [
        "class estudiante:\n",
        "  def __init__(self, carne1, nombre, edad, direccion, telefono, email, carrera, puesto):\n",
        "    ##self.carne es una nueva variable y carne1 es la instancia\n",
        "    self.carne = carne1\n",
        "    self.nombre = nombre\n",
        "    self.edad = edad\n",
        "    self.direccion = direccion\n",
        "    self.telefono = telefono\n",
        "    self.email = email\n",
        "    self.puesto = puesto"
      ],
      "execution_count": null,
      "outputs": []
    },
    {
      "cell_type": "markdown",
      "metadata": {
        "id": "qWe5ltJX1ph_"
      },
      "source": [
        "**Definicion de la clase Nodo**"
      ]
    },
    {
      "cell_type": "code",
      "metadata": {
        "id": "MumKF0PR1jGa"
      },
      "source": [
        "class nodo:\n",
        "  def __init__(self, estudiante=None, siguiente=None):\n",
        "    #dato y apuntador se define el nodo\n",
        "    self.estudiante = estudiante\n",
        "    self.siguiente = siguiente"
      ],
      "execution_count": null,
      "outputs": []
    },
    {
      "cell_type": "markdown",
      "metadata": {
        "id": "splc_OnY1s6U"
      },
      "source": [
        "**Definicion de la clase lista circular**"
      ]
    },
    {
      "cell_type": "code",
      "metadata": {
        "id": "nLvp7IRQ1yqs"
      },
      "source": [
        "class lista_circular:\n",
        "  def __init__(self):\n",
        "    self.primero = None\n",
        "\n",
        "  def insertar(self, estudiante):\n",
        "    if self.primero is None:\n",
        "      self.primero = nodo(estudiante=estudiante)\n",
        "      self.primero.siguiente = self.primero\n",
        "    else:\n",
        "      actual = nodo(estudiante=estudiante, siguiente=self.primero.siguiente)\n",
        "      self.primero.siguiente = actual\n",
        "\n",
        "  def recorrer(self):\n",
        "    if self.primero is None:\n",
        "      return\n",
        "    actual = self.primero\n",
        "    print(\"Carne: \", actual.estudiante.carne, \"Nombre: \", actual.estudiante.nombre, \"Email: \", actual.estudiante.email, \"->\")\n",
        "    while actual.siguiente != self.primero:\n",
        "      actual = actual.siguiente\n",
        "      print(\"Carne: \", actual.estudiante.carne, \"Nombre: \", actual.estudiante.nombre, \"Email: \", actual.estudiante.email, \"->\")\n",
        "\n",
        "  def eliminar(self, carne):\n",
        "    actual = self.primero\n",
        "    anterior = None\n",
        "    no_encontrado = False\n",
        "\n",
        "    while actual and actual.estudiante.carne != carne:\n",
        "      anterior = actual\n",
        "      actual = actual.siguiente\n",
        "      if actual == self.primero:\n",
        "        no_encontrado = True\n",
        "        break\n",
        "    \n",
        "    if not no_encontrado:\n",
        "      if anterior is not None:\n",
        "        anterior.siguiente = actual.siguiente\n",
        "      else:\n",
        "       while actual.siguiente != self.primero:\n",
        "        actual = actual.siguiente\n",
        "      actual.siguiente = self.primero.siguiente\n",
        "      self.primero = self.primero.siguiente\n"
      ],
      "execution_count": null,
      "outputs": []
    },
    {
      "cell_type": "markdown",
      "metadata": {
        "id": "VIGf5tgr9_Yx"
      },
      "source": [
        "**Creación de objetos Estudiante**"
      ]
    },
    {
      "cell_type": "code",
      "metadata": {
        "id": "XKo_EEbl-BWr"
      },
      "source": [
        "e1 = estudiante(201901530, \"Jeffrey Pineda\",20,\"9 calle 9-50 zona 6\", 44288224,\"jeff@gmail.com\",\"Ing. ciencias y sitemas\", \"Programador Jr\")\n",
        "e2 = estudiante(202001531, \"Carlos fuente\",22,\"6 calle 9-50 zona 10\", 64897824,\"hola@gmail.com\",\"Ing. ciencias y sitemas\", \"Programador Jr\")\n",
        "e3 = estudiante(202101532, \"Luis Pera\",21,\"8 calle 9-50 zona 5\", 3894224,\"quero@gmail.com\",\"Ing. ciencias y sitemas\", \"Programador Jr\")\n"
      ],
      "execution_count": null,
      "outputs": []
    },
    {
      "cell_type": "markdown",
      "metadata": {
        "id": "dRVGkRcR-FOH"
      },
      "source": [
        "**Insercion**"
      ]
    },
    {
      "cell_type": "code",
      "metadata": {
        "id": "_0ZGWXmO-Lz1"
      },
      "source": [
        "lista_c = lista_circular()\n",
        "lista_c.insertar(e1)\n",
        "lista_c.insertar(e2)\n",
        "lista_c.insertar(e3)"
      ],
      "execution_count": null,
      "outputs": []
    },
    {
      "cell_type": "markdown",
      "metadata": {
        "id": "Ur-igMKj-XRg"
      },
      "source": [
        "**Recorrer la lista**"
      ]
    },
    {
      "cell_type": "code",
      "metadata": {
        "id": "FWvWn60d-dHc",
        "colab": {
          "base_uri": "https://localhost:8080/"
        },
        "outputId": "3a2f78cc-9c0f-4386-9155-bc8f57742893"
      },
      "source": [
        "lista_c.recorrer()"
      ],
      "execution_count": null,
      "outputs": [
        {
          "output_type": "stream",
          "text": [
            "Carne:  201901530 Nombre:  Jeffrey Pineda Email:  jeff@gmail.com ->\n",
            "Carne:  202101532 Nombre:  Luis Pera Email:  quero@gmail.com ->\n",
            "Carne:  202001531 Nombre:  Carlos fuente Email:  hola@gmail.com ->\n"
          ],
          "name": "stdout"
        }
      ]
    },
    {
      "cell_type": "markdown",
      "metadata": {
        "id": "6D0lGY76rrpe"
      },
      "source": [
        "**Eliminar un nodo de la lista**"
      ]
    },
    {
      "cell_type": "code",
      "metadata": {
        "colab": {
          "base_uri": "https://localhost:8080/"
        },
        "id": "BXK5Dvm-rvWS",
        "outputId": "6a46ea26-1db3-4aca-f887-5259283ac7c1"
      },
      "source": [
        "lista_c.eliminar(20125115)\n",
        "lista_c.recorrer()"
      ],
      "execution_count": null,
      "outputs": [
        {
          "output_type": "stream",
          "text": [
            "Carne:  201901530 Nombre:  Jeffrey Pineda Email:  jeff@gmail.com ->\n",
            "Carne:  202101532 Nombre:  Luis Pera Email:  quero@gmail.com ->\n",
            "Carne:  202001531 Nombre:  Carlos fuente Email:  hola@gmail.com ->\n"
          ],
          "name": "stdout"
        }
      ]
    }
  ]
}